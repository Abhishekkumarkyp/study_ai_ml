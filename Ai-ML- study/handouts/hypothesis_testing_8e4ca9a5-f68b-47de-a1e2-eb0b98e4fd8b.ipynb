{
 "cells": [
  {
   "cell_type": "markdown",
   "id": "c1a4b681",
   "metadata": {},
   "source": [
    "## averge weight of 10 years old children is more than 32kgs\n",
    "H0 Null hypothesis - Average weight of children is 32 kgs\n",
    "H1 Alternate Hypothesis - Average weight of children is more than 32 kgs"
   ]
  },
  {
   "cell_type": "code",
   "execution_count": 1,
   "id": "9e68731a",
   "metadata": {},
   "outputs": [],
   "source": [
    "import numpy as np\n",
    "import scipy.stats as stats"
   ]
  },
  {
   "cell_type": "code",
   "execution_count": 6,
   "id": "606ff0ca",
   "metadata": {},
   "outputs": [],
   "source": [
    "data = np.random.randint(20,40,10)"
   ]
  },
  {
   "cell_type": "code",
   "execution_count": 7,
   "id": "32f6a50e",
   "metadata": {},
   "outputs": [
    {
     "data": {
      "text/plain": [
       "array([39, 37, 35, 28, 33, 29, 39, 29, 31, 39])"
      ]
     },
     "execution_count": 7,
     "metadata": {},
     "output_type": "execute_result"
    }
   ],
   "source": [
    "data"
   ]
  },
  {
   "cell_type": "code",
   "execution_count": 13,
   "id": "d40849f3",
   "metadata": {},
   "outputs": [
    {
     "data": {
      "text/plain": [
       "33.9"
      ]
     },
     "execution_count": 13,
     "metadata": {},
     "output_type": "execute_result"
    }
   ],
   "source": [
    "data.mean()"
   ]
  },
  {
   "cell_type": "code",
   "execution_count": 8,
   "id": "6e89512e",
   "metadata": {},
   "outputs": [],
   "source": [
    "H0 = 'Average weigh of  10 year old children isequal to 32 kgs'\n",
    "H1 = 'Avergae weight of 10 year old children is more than 32 kgs'"
   ]
  },
  {
   "cell_type": "code",
   "execution_count": 9,
   "id": "58199ca6",
   "metadata": {},
   "outputs": [],
   "source": [
    "#calculate test statitic\n",
    "t_stat,p_value = stats.ttest_1samp(data,32)"
   ]
  },
  {
   "cell_type": "code",
   "execution_count": 10,
   "id": "43e677ce",
   "metadata": {},
   "outputs": [
    {
     "data": {
      "text/plain": [
       "1.3401566701313357"
      ]
     },
     "execution_count": 10,
     "metadata": {},
     "output_type": "execute_result"
    }
   ],
   "source": [
    "t_stat"
   ]
  },
  {
   "cell_type": "code",
   "execution_count": 11,
   "id": "ff900ddf",
   "metadata": {},
   "outputs": [
    {
     "data": {
      "text/plain": [
       "0.21304319288436083"
      ]
     },
     "execution_count": 11,
     "metadata": {},
     "output_type": "execute_result"
    }
   ],
   "source": [
    "p_value"
   ]
  },
  {
   "cell_type": "code",
   "execution_count": 12,
   "id": "9863d021",
   "metadata": {},
   "outputs": [
    {
     "name": "stdout",
     "output_type": "stream",
     "text": [
      "Fail to reject the null hypothesis\n"
     ]
    }
   ],
   "source": [
    "if p_value <0.05:\n",
    "    print('Reject the the null hypothesis')\n",
    "else:\n",
    "    print('Fail to reject the null hypothesis')"
   ]
  },
  {
   "cell_type": "code",
   "execution_count": null,
   "id": "91103e54",
   "metadata": {},
   "outputs": [],
   "source": []
  }
 ],
 "metadata": {
  "kernelspec": {
   "display_name": "Python 3 (ipykernel)",
   "language": "python",
   "name": "python3"
  },
  "language_info": {
   "codemirror_mode": {
    "name": "ipython",
    "version": 3
   },
   "file_extension": ".py",
   "mimetype": "text/x-python",
   "name": "python",
   "nbconvert_exporter": "python",
   "pygments_lexer": "ipython3",
   "version": "3.11.4"
  }
 },
 "nbformat": 4,
 "nbformat_minor": 5
}
